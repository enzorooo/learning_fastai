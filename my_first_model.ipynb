{
  "nbformat": 4,
  "nbformat_minor": 0,
  "metadata": {
    "colab": {
      "name": "my_first_model.ipynb",
      "provenance": [],
      "authorship_tag": "ABX9TyPH6HWV78YY2wGfmfJZCinL",
      "include_colab_link": true
    },
    "kernelspec": {
      "name": "python3",
      "display_name": "Python 3"
    }
  },
  "cells": [
    {
      "cell_type": "markdown",
      "metadata": {
        "id": "view-in-github",
        "colab_type": "text"
      },
      "source": [
        "<a href=\"https://colab.research.google.com/github/enzorooo/learning_fastai/blob/main/my_first_model.ipynb\" target=\"_parent\"><img src=\"https://colab.research.google.com/assets/colab-badge.svg\" alt=\"Open In Colab\"/></a>"
      ]
    },
    {
      "cell_type": "markdown",
      "metadata": {
        "id": "SYsB7K37Ux3N"
      },
      "source": [
        "This is my first notebook for fastAI."
      ]
    },
    {
      "cell_type": "code",
      "metadata": {
        "id": "64ykM_MyTZC-"
      },
      "source": [
        "sdadsasdasd"
      ],
      "execution_count": null,
      "outputs": []
    }
  ]
}